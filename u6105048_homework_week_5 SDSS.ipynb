{
 "cells": [
  {
   "cell_type": "code",
   "execution_count": 13,
   "metadata": {},
   "outputs": [
    {
     "name": "stdout",
     "output_type": "stream",
     "text": [
      "    z         zErr     petroMag_g petroMagErr_g\n",
      "--------- ------------ ---------- -------------\n",
      "0.3684698 0.0001477097   21.26912     0.1762777\n",
      "0.3601471 3.207361e-05    20.5408     0.1071412\n",
      "0.3501956 8.474907e-05   20.98278     0.1325537\n",
      "0.3100917 3.591566e-05   21.13831     0.1715418\n",
      "0.3747558 0.0001498435   21.19245     0.2776606\n",
      "0.3994027 0.0001513882   21.31069     0.1831087\n",
      "0.3288066 2.724312e-05   22.20386     0.2303705\n",
      "0.3845533 7.001493e-05   20.87426     0.2747637\n",
      "0.3967029 0.0001276404   21.80763      1.139039\n",
      "0.3983405 0.0001380063    20.4783     0.9714449\n",
      "      ...          ...        ...           ...\n",
      "0.3891042 8.394324e-05    21.7997     0.2176826\n",
      "0.3268612 6.536999e-05   20.54618     0.0968792\n",
      "0.3406829 6.235736e-05   20.84186    0.08967052\n",
      "0.3414368 6.207959e-05   20.46202     0.8030877\n",
      "0.3428755 0.0001022772   22.37258     0.3861467\n",
      "0.3952633 0.0001008074   21.00375     0.2135796\n",
      "0.3452714 5.410089e-05   20.59071    0.08435506\n",
      "0.3960217 6.753994e-05   20.78067     0.3383439\n",
      " 0.382132 1.128028e-05   20.95649       1.59467\n",
      "0.3689076  5.81499e-05   21.30948     0.2695087\n",
      "0.3240807 7.762702e-05   22.75768     0.4789515\n",
      "Length = 266056 rows\n"
     ]
    }
   ],
   "source": [
    "from astroquery.sdss import SDSS\n",
    "a = \"SELECT s.z, s.zErr , p.petroMag_g, p.petroMagErr_g FROM PhotoObjAll AS p Join SpecObjAll AS s ON s.bestobjid = p.objid WHERE  s.z BETWEEN 0.3 AND 0.4 AND s.zWarning = 0\"\n",
    "res = SDSS.query_sql(a)\n",
    "print(res)"
   ]
  },
  {
   "cell_type": "code",
   "execution_count": 14,
   "metadata": {},
   "outputs": [],
   "source": [
    "import numpy as np\n"
   ]
  },
  {
   "cell_type": "code",
   "execution_count": 15,
   "metadata": {},
   "outputs": [],
   "source": [
    "import pandas as pd"
   ]
  },
  {
   "cell_type": "code",
   "execution_count": 16,
   "metadata": {},
   "outputs": [],
   "source": [
    "import matplotlib.pyplot as plt"
   ]
  },
  {
   "cell_type": "code",
   "execution_count": 19,
   "metadata": {},
   "outputs": [],
   "source": [
    "A_1 = ['z','petroMag_g']"
   ]
  },
  {
   "cell_type": "code",
   "execution_count": 22,
   "metadata": {},
   "outputs": [],
   "source": [
    "data_A_1 = res[A_1]"
   ]
  },
  {
   "cell_type": "code",
   "execution_count": 24,
   "metadata": {},
   "outputs": [],
   "source": [
    "z_1 = data_A_1['z']"
   ]
  },
  {
   "cell_type": "code",
   "execution_count": 25,
   "metadata": {},
   "outputs": [],
   "source": [
    "petroMag_1 = data_A_1['petroMag_g']"
   ]
  },
  {
   "cell_type": "code",
   "execution_count": 30,
   "metadata": {},
   "outputs": [
    {
     "data": {
      "text/plain": [
       "Text(0.5, 1.0, 'The graph show the relationship between z and petroMag_g.')"
      ]
     },
     "execution_count": 30,
     "metadata": {},
     "output_type": "execute_result"
    },
    {
     "data": {
      "image/png": "[encoded data removed]",
      "text/plain": [
       "<Figure size 432x288 with 1 Axes>"
      ]
     },
     "metadata": {
      "needs_background": "light"
     },
     "output_type": "display_data"
    }
   ],
   "source": [
    "plt.plot(z_1,petroMag_1,'bo',)\n",
    "plt.xlabel(\"z\")\n",
    "plt.ylabel(\"petroMag_g\")\n",
    "plt.grid(True)\n",
    "plt.title(\"The graph show the relationship between z and petroMag_g.\")"
   ]
  },
  {
   "cell_type": "code",
   "execution_count": null,
   "metadata": {},
   "outputs": [],
   "source": []
  }
 ],
 "metadata": {
  "kernelspec": {
   "display_name": "Python 3",
   "language": "python",
   "name": "python3"
  },
  "language_info": {
   "codemirror_mode": {
    "name": "ipython",
    "version": 3
   },
   "file_extension": ".py",
   "mimetype": "text/x-python",
   "name": "python",
   "nbconvert_exporter": "python",
   "pygments_lexer": "ipython3",
   "version": "3.7.4"
  }
 },
 "nbformat": 4,
 "nbformat_minor": 4
}
